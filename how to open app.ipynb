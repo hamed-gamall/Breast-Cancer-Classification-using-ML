{
 "cells": [
  {
   "cell_type": "code",
   "execution_count": null,
   "id": "99249820",
   "metadata": {},
   "outputs": [],
   "source": [
    "# These libraries must be present.\n",
    "\n",
    "#pip install streamlit\n",
    "#pip install joblib\n",
    "#pip install scikit-learn\n",
    "#pip install seaborn matplotlib\n",
    "#pip install jupyter_contrib_nbextensions"
   ]
  },
  {
   "cell_type": "code",
   "execution_count": null,
   "id": "557cfd42",
   "metadata": {},
   "outputs": [],
   "source": [
    "# Streamlit App\n",
    "\n",
    "# Create a folder named for example Machine Learning Project ,put everything in it.\n",
    "# app.py : create Notepad and put the code below it and save it as app.py\n",
    "# When you run it, you will see a file named breast_cancer_model.pkl in the home page in Jupyter notebook. Don't forget to download it and put it in the folder as well.\n",
    "# Run Streamlit App:\n",
    "# Go to the folder containing the app.py file using the command line\n",
    "# details : Open the folder and take its path by clicking on the folder name above when opening the folder and copy it\n",
    "# cd path/to/your/directory\n",
    "# cilck enter\n",
    "# streamlit run app.py\n",
    "# click enter"
   ]
  },
  {
   "cell_type": "code",
   "execution_count": null,
   "id": "a5752e16",
   "metadata": {},
   "outputs": [],
   "source": [
    "# This is app.py\n",
    "\n",
    "import streamlit as st\n",
    "import joblib\n",
    "import pandas as pd\n",
    "\n",
    "# Load the trained model\n",
    "model = joblib.load('breast_cancer_model.pkl')\n",
    "\n",
    "st.title(\"Breast Cancer Classification\")\n",
    "\n",
    "# Input form for the features\n",
    "st.write(\"Enter the values for the features:\")\n",
    "mean_radius = st.number_input(\"Mean Radius\")\n",
    "mean_texture = st.number_input(\"Mean Texture\")\n",
    "mean_perimeter = st.number_input(\"Mean Perimeter\")\n",
    "mean_area = st.number_input(\"Mean Area\")\n",
    "mean_smoothness = st.number_input(\"Mean Smoothness\")\n",
    "mean_compactness = st.number_input(\"Mean Compactness\")\n",
    "mean_concavity = st.number_input(\"Mean Concavity\")\n",
    "mean_concave_points = st.number_input(\"Mean Concave Points\")\n",
    "mean_symmetry = st.number_input(\"Mean Symmetry\")\n",
    "mean_fractal_dimension = st.number_input(\"Mean Fractal Dimension\")\n",
    "\n",
    "# Predict button\n",
    "if st.button(\"Predict\"):\n",
    "    # Create a DataFrame with the input values\n",
    "    input_data = pd.DataFrame([[mean_radius, mean_texture, mean_perimeter, mean_area, mean_smoothness,\n",
    "                                mean_compactness, mean_concavity, mean_concave_points, mean_symmetry, mean_fractal_dimension]],\n",
    "                              columns=[\"mean_radius\", \"mean_texture\", \"mean_perimeter\", \"mean_area\", \"mean_smoothness\",\n",
    "                                       \"mean_compactness\", \"mean_concavity\", \"mean_concave_points\", \"mean_symmetry\", \"mean_fractal_dimension\"])\n",
    "    # Make prediction\n",
    "    prediction = model.predict(input_data)\n",
    "    result = \"Malignant\" if prediction[0] == 1 else \"Benign\"\n",
    "    st.write(f\"The predicted class is: {result}\")"
   ]
  }
 ],
 "metadata": {
  "kernelspec": {
   "display_name": "base",
   "language": "python",
   "name": "python3"
  },
  "language_info": {
   "name": "python",
   "version": "3.12.7"
  }
 },
 "nbformat": 4,
 "nbformat_minor": 5
}
